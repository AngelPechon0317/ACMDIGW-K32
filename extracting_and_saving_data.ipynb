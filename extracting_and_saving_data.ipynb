{
  "nbformat": 4,
  "nbformat_minor": 0,
  "metadata": {
    "colab": {
      "provenance": [],
      "gpuType": "T4",
      "mount_file_id": "13Fs4fWAR1RJdgiDB6-5yHMp5pIWpcV6G",
      "authorship_tag": "ABX9TyNEnsyARgygTI/IMoMJTwFc",
      "include_colab_link": true
    },
    "kernelspec": {
      "name": "python3",
      "display_name": "Python 3"
    },
    "language_info": {
      "name": "python"
    },
    "accelerator": "GPU"
  },
  "cells": [
    {
      "cell_type": "markdown",
      "metadata": {
        "id": "view-in-github",
        "colab_type": "text"
      },
      "source": [
        "<a href=\"https://colab.research.google.com/github/AngelPechon0317/ACMDIGW-K32/blob/main/extracting_and_saving_data.ipynb\" target=\"_parent\"><img src=\"https://colab.research.google.com/assets/colab-badge.svg\" alt=\"Open In Colab\"/></a>"
      ]
    },
    {
      "cell_type": "code",
      "execution_count": null,
      "metadata": {
        "id": "BpXPAvOd8fQR"
      },
      "outputs": [],
      "source": []
    },
    {
      "cell_type": "code",
      "source": [
        "# most common shortcut keys\n",
        "# ctrl + / = to comment a code\n",
        "# ctrl + enter = run a code block\n",
        "# ctrl + m, b = create a code block below\n",
        "# ctrl + m, a create a code block above"
      ],
      "metadata": {
        "id": "yut6muKQ9mf6"
      },
      "execution_count": 6,
      "outputs": []
    },
    {
      "cell_type": "code",
      "source": [
        "# connect gdrive\n",
        "from google.colab import drive\n",
        "drive.mount('/content/drive')"
      ],
      "metadata": {
        "colab": {
          "base_uri": "https://localhost:8080/"
        },
        "id": "45jVZpIu9_CZ",
        "outputId": "3db8c4e4-b6a1-4a44-b9e8-ba79517e138b"
      },
      "execution_count": 12,
      "outputs": [
        {
          "output_type": "stream",
          "name": "stdout",
          "text": [
            "Drive already mounted at /content/drive; to attempt to forcibly remount, call drive.mount(\"/content/drive\", force_remount=True).\n"
          ]
        }
      ]
    },
    {
      "cell_type": "code",
      "source": [
        "# install yelpapi\n",
        "!pip install yelpapi -- quiet"
      ],
      "metadata": {
        "colab": {
          "base_uri": "https://localhost:8080/"
        },
        "id": "B5Q_1XAi95QH",
        "outputId": "04a00469-a6d2-4127-fa0b-18f1d181e770"
      },
      "execution_count": 14,
      "outputs": [
        {
          "output_type": "stream",
          "name": "stdout",
          "text": [
            "Collecting yelpapi\n",
            "  Downloading yelpapi-2.5.1-py3-none-any.whl (7.4 kB)\n",
            "Requirement already satisfied: requests in /usr/local/lib/python3.10/dist-packages (from yelpapi) (2.31.0)\n",
            "Requirement already satisfied: charset-normalizer<4,>=2 in /usr/local/lib/python3.10/dist-packages (from requests->yelpapi) (3.3.2)\n",
            "Requirement already satisfied: idna<4,>=2.5 in /usr/local/lib/python3.10/dist-packages (from requests->yelpapi) (3.6)\n",
            "Requirement already satisfied: urllib3<3,>=1.21.1 in /usr/local/lib/python3.10/dist-packages (from requests->yelpapi) (2.0.7)\n",
            "Requirement already satisfied: certifi>=2017.4.17 in /usr/local/lib/python3.10/dist-packages (from requests->yelpapi) (2024.2.2)\n",
            "Installing collected packages: yelpapi\n",
            "Successfully installed yelpapi-2.5.1\n"
          ]
        }
      ]
    },
    {
      "cell_type": "code",
      "source": [
        "# import libraries\n",
        "import pandas as pd\n",
        "import numpy as np\n",
        "import matplotlib.pyplot as pit\n",
        "import seaborn as sns\n",
        "\n",
        "# additional libraries\n",
        "import os json, math, time\n",
        "from yelpapi import YelpAPI\n",
        "from tqdm.autonotebook import tqdm_notebook"
      ],
      "metadata": {
        "colab": {
          "base_uri": "https://localhost:8080/",
          "height": 106
        },
        "id": "vnqC9Csz_g4j",
        "outputId": "dbcbbd1d-ef29-44ec-8e32-089feb35fc49"
      },
      "execution_count": 16,
      "outputs": [
        {
          "output_type": "error",
          "ename": "SyntaxError",
          "evalue": "invalid syntax (<ipython-input-16-ba2042eccfa5>, line 8)",
          "traceback": [
            "\u001b[0;36m  File \u001b[0;32m\"<ipython-input-16-ba2042eccfa5>\"\u001b[0;36m, line \u001b[0;32m8\u001b[0m\n\u001b[0;31m    import os json, math, time\u001b[0m\n\u001b[0m              ^\u001b[0m\n\u001b[0;31mSyntaxError\u001b[0m\u001b[0;31m:\u001b[0m invalid syntax\n"
          ]
        }
      ]
    },
    {
      "cell_type": "markdown",
      "source": [
        "# Loading Credentials and Creating the YelpAPI object\n"
      ],
      "metadata": {
        "id": "uE5i7Gtn94IY"
      }
    },
    {
      "cell_type": "code",
      "source": [
        "# load yelp API credentials and instantiate the YelpAPI object\n"
      ],
      "metadata": {
        "id": "SjckL-95CKLv"
      },
      "execution_count": null,
      "outputs": []
    },
    {
      "cell_type": "markdown",
      "source": [
        "{\n",
        "    \"client-id\" : \"your id here\",\n",
        "    \"api-key\" : \"your key here\"\n",
        "}"
      ],
      "metadata": {
        "id": "HJ4S22ctB4pD"
      }
    },
    {
      "cell_type": "code",
      "source": [],
      "metadata": {
        "id": "VBrhSv4mB5l3"
      },
      "execution_count": null,
      "outputs": []
    }
  ]
}